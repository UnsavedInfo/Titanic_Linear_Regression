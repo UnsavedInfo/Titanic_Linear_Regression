{
 "cells": [
  {
   "cell_type": "code",
   "execution_count": 1,
   "id": "523010f6",
   "metadata": {},
   "outputs": [],
   "source": [
    "# importing libraries\n",
    "from pydataset import data\n",
    "import pandas as pd\n",
    "import numpy as np\n",
    "from sklearn.linear_model import LogisticRegression\n",
    "from sklearn.model_selection import train_test_split"
   ]
  },
  {
   "cell_type": "code",
   "execution_count": null,
   "id": "8578f6ec",
   "metadata": {},
   "outputs": [],
   "source": [
    "#Get the data\n",
    "titanic = data('titanic')\n",
    "titanic.sample(5)"
   ]
  },
  {
   "cell_type": "markdown",
   "id": "a2e20b92",
   "metadata": {},
   "source": [
    "Para poder usar essas informações no meu modelo, transformo as categorias (class, age, sex e survived) em variáveis binários."
   ]
  },
  {
   "cell_type": "code",
   "execution_count": 3,
   "id": "c605a34a",
   "metadata": {},
   "outputs": [
    {
     "data": {
      "text/html": [
       "<div>\n",
       "<style scoped>\n",
       "    .dataframe tbody tr th:only-of-type {\n",
       "        vertical-align: middle;\n",
       "    }\n",
       "\n",
       "    .dataframe tbody tr th {\n",
       "        vertical-align: top;\n",
       "    }\n",
       "\n",
       "    .dataframe thead th {\n",
       "        text-align: right;\n",
       "    }\n",
       "</style>\n",
       "<table border=\"1\" class=\"dataframe\">\n",
       "  <thead>\n",
       "    <tr style=\"text-align: right;\">\n",
       "      <th></th>\n",
       "      <th>class_2nd class</th>\n",
       "      <th>class_3rd class</th>\n",
       "      <th>age_child</th>\n",
       "      <th>sex_women</th>\n",
       "      <th>survived_yes</th>\n",
       "    </tr>\n",
       "  </thead>\n",
       "  <tbody>\n",
       "    <tr>\n",
       "      <th>750</th>\n",
       "      <td>0</td>\n",
       "      <td>1</td>\n",
       "      <td>0</td>\n",
       "      <td>0</td>\n",
       "      <td>0</td>\n",
       "    </tr>\n",
       "    <tr>\n",
       "      <th>1035</th>\n",
       "      <td>0</td>\n",
       "      <td>1</td>\n",
       "      <td>0</td>\n",
       "      <td>0</td>\n",
       "      <td>0</td>\n",
       "    </tr>\n",
       "    <tr>\n",
       "      <th>122</th>\n",
       "      <td>0</td>\n",
       "      <td>0</td>\n",
       "      <td>0</td>\n",
       "      <td>0</td>\n",
       "      <td>0</td>\n",
       "    </tr>\n",
       "    <tr>\n",
       "      <th>536</th>\n",
       "      <td>1</td>\n",
       "      <td>0</td>\n",
       "      <td>0</td>\n",
       "      <td>1</td>\n",
       "      <td>1</td>\n",
       "    </tr>\n",
       "    <tr>\n",
       "      <th>1087</th>\n",
       "      <td>0</td>\n",
       "      <td>1</td>\n",
       "      <td>0</td>\n",
       "      <td>1</td>\n",
       "      <td>1</td>\n",
       "    </tr>\n",
       "  </tbody>\n",
       "</table>\n",
       "</div>"
      ],
      "text/plain": [
       "      class_2nd class  class_3rd class  age_child  sex_women  survived_yes\n",
       "750                 0                1          0          0             0\n",
       "1035                0                1          0          0             0\n",
       "122                 0                0          0          0             0\n",
       "536                 1                0          0          1             1\n",
       "1087                0                1          0          1             1"
      ]
     },
     "execution_count": 3,
     "metadata": {},
     "output_type": "execute_result"
    }
   ],
   "source": [
    "#Feature engenerinng (one hot encoding) Transformar algumas categorias em valores\n",
    "titanic = pd.get_dummies(titanic, drop_first=True) # transforma as categorias em valores booleanos. \n",
    "titanic.sample(5)"
   ]
  },
  {
   "cell_type": "markdown",
   "id": "5039fb01",
   "metadata": {},
   "source": [
    "Aqui, separo os meus dados (dados de teste e dado de treino) para utilizar em meu modelo"
   ]
  },
  {
   "cell_type": "code",
   "execution_count": 4,
   "id": "81b8e910",
   "metadata": {},
   "outputs": [],
   "source": [
    "# Test train split\n",
    "\n",
    "#axis=1 para remover a coluna toda. (dataframe sem o \"survived_yes\", dataframe booleano com 0 e 1)\n",
    "#X_train, X_test, y_train, y_test = train_test_split(titanic.drop(\"survived_yes\", axis =1), titanic[\"survived_yes\"])  \n",
    "X_train, X_test, y_train, y_test = train_test_split(titanic.drop('survived_yes', axis=1), titanic['survived_yes'])"
   ]
  },
  {
   "cell_type": "code",
   "execution_count": 5,
   "id": "ff2192c3",
   "metadata": {},
   "outputs": [
    {
     "name": "stdout",
     "output_type": "stream",
     "text": [
      "LogisticRegression()\n"
     ]
    }
   ],
   "source": [
    "# Train the model using the training data\n",
    "LogReg = LogisticRegression()\n",
    "LogReg.fit(X_train, y_train)\n",
    "print(LogReg)"
   ]
  },
  {
   "cell_type": "code",
   "execution_count": 6,
   "id": "a4fe2fe9",
   "metadata": {},
   "outputs": [
    {
     "name": "stderr",
     "output_type": "stream",
     "text": [
      "C:\\Users\\DANIEL\\anaconda3\\lib\\site-packages\\sklearn\\base.py:450: UserWarning: X does not have valid feature names, but LogisticRegression was fitted with feature names\n",
      "  warnings.warn(\n"
     ]
    },
    {
     "data": {
      "text/plain": [
       "1"
      ]
     },
     "execution_count": 6,
     "metadata": {},
     "output_type": "execute_result"
    }
   ],
   "source": [
    "#Predicting if a class-1 child-age girl survived\n",
    "LogReg.predict(np.array([[0,0,1,1]]))[0]\n"
   ]
  },
  {
   "cell_type": "code",
   "execution_count": 7,
   "id": "adbaa40f",
   "metadata": {},
   "outputs": [
    {
     "name": "stderr",
     "output_type": "stream",
     "text": [
      "C:\\Users\\DANIEL\\anaconda3\\lib\\site-packages\\sklearn\\base.py:450: UserWarning: X does not have valid feature names, but LogisticRegression was fitted with feature names\n",
      "  warnings.warn(\n"
     ]
    },
    {
     "data": {
      "text/plain": [
       "0"
      ]
     },
     "execution_count": 7,
     "metadata": {},
     "output_type": "execute_result"
    }
   ],
   "source": [
    "#Predicting if a class-3 adult-age male survived\n",
    "LogReg.predict(np.array([[0,1,0,0]]))[0]"
   ]
  },
  {
   "cell_type": "code",
   "execution_count": 8,
   "id": "c18672e0",
   "metadata": {},
   "outputs": [
    {
     "data": {
      "text/plain": [
       "0.7750759878419453"
      ]
     },
     "execution_count": 8,
     "metadata": {},
     "output_type": "execute_result"
    }
   ],
   "source": [
    "LogReg.score(X_test,y_test)"
   ]
  },
  {
   "cell_type": "code",
   "execution_count": 9,
   "id": "b5109d9d",
   "metadata": {},
   "outputs": [
    {
     "data": {
      "text/plain": [
       "0.7750759878419453"
      ]
     },
     "execution_count": 9,
     "metadata": {},
     "output_type": "execute_result"
    }
   ],
   "source": [
    "prediction = (LogReg.predict(X_test) > .5).astype(int)\n",
    "np.sum(prediction == y_test) / len(y_test) # Quanto mais perto de 1, mais vezes o meu modelo acertou. Acurácia"
   ]
  }
 ],
 "metadata": {
  "kernelspec": {
   "display_name": "Python 3 (ipykernel)",
   "language": "python",
   "name": "python3"
  },
  "language_info": {
   "codemirror_mode": {
    "name": "ipython",
    "version": 3
   },
   "file_extension": ".py",
   "mimetype": "text/x-python",
   "name": "python",
   "nbconvert_exporter": "python",
   "pygments_lexer": "ipython3",
   "version": "3.9.13"
  }
 },
 "nbformat": 4,
 "nbformat_minor": 5
}
